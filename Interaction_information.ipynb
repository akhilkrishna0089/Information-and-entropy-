{
  "nbformat": 4,
  "nbformat_minor": 0,
  "metadata": {
    "colab": {
      "provenance": []
    },
    "kernelspec": {
      "name": "python3",
      "display_name": "Python 3"
    },
    "language_info": {
      "name": "python"
    }
  },
  "cells": [
    {
      "cell_type": "markdown",
      "source": [
        "Interaction information"
      ],
      "metadata": {
        "id": "598UXwbaLA1L"
      }
    },
    {
      "cell_type": "code",
      "execution_count": 1,
      "metadata": {
        "colab": {
          "base_uri": "https://localhost:8080/"
        },
        "id": "E0aMwxKkKyPn",
        "outputId": "71ffd714-6573-4cb3-f6d0-615da9d19a20"
      },
      "outputs": [
        {
          "output_type": "stream",
          "name": "stdout",
          "text": [
            "Looking in indexes: https://pypi.org/simple, https://us-python.pkg.dev/colab-wheels/public/simple/\n",
            "Requirement already satisfied: feature-engine in /usr/local/lib/python3.8/dist-packages (1.5.2)\n",
            "Requirement already satisfied: numpy>=1.18.2 in /usr/local/lib/python3.8/dist-packages (from feature-engine) (1.21.6)\n",
            "Requirement already satisfied: scikit-learn>=1.0.0 in /usr/local/lib/python3.8/dist-packages (from feature-engine) (1.0.2)\n",
            "Requirement already satisfied: pandas>=1.0.3 in /usr/local/lib/python3.8/dist-packages (from feature-engine) (1.3.5)\n",
            "Requirement already satisfied: statsmodels>=0.11.1 in /usr/local/lib/python3.8/dist-packages (from feature-engine) (0.12.2)\n",
            "Requirement already satisfied: scipy>=1.4.1 in /usr/local/lib/python3.8/dist-packages (from feature-engine) (1.7.3)\n",
            "Requirement already satisfied: pytz>=2017.3 in /usr/local/lib/python3.8/dist-packages (from pandas>=1.0.3->feature-engine) (2022.7)\n",
            "Requirement already satisfied: python-dateutil>=2.7.3 in /usr/local/lib/python3.8/dist-packages (from pandas>=1.0.3->feature-engine) (2.8.2)\n",
            "Requirement already satisfied: threadpoolctl>=2.0.0 in /usr/local/lib/python3.8/dist-packages (from scikit-learn>=1.0.0->feature-engine) (3.1.0)\n",
            "Requirement already satisfied: joblib>=0.11 in /usr/local/lib/python3.8/dist-packages (from scikit-learn>=1.0.0->feature-engine) (1.2.0)\n",
            "Requirement already satisfied: patsy>=0.5 in /usr/local/lib/python3.8/dist-packages (from statsmodels>=0.11.1->feature-engine) (0.5.3)\n",
            "Requirement already satisfied: six in /usr/local/lib/python3.8/dist-packages (from patsy>=0.5->statsmodels>=0.11.1->feature-engine) (1.15.0)\n"
          ]
        }
      ],
      "source": [
        "%pip install feature-engine"
      ]
    },
    {
      "cell_type": "code",
      "source": [
        "import numpy as np\n",
        "import matplotlib.pyplot as plt\n",
        "from mpl_toolkits import mplot3d\n",
        "import numpy as np\n",
        "import matplotlib.pyplot as plt\n",
        "from sklearn.decomposition import TruncatedSVD\n",
        "from sklearn.utils.extmath import randomized_svd\n",
        "import numpy as np\n",
        "from scipy.integrate import odeint\n",
        "import matplotlib.pyplot as plt\n",
        "import math\n",
        "import pandas as pd\n",
        "import pandas as pd\n",
        "from sklearn.metrics import mutual_info_score\n",
        "from sklearn.feature_selection import mutual_info_classif, mutual_info_regression\n",
        "from feature_engine.encoding import RareLabelEncoder, OrdinalEncoder"
      ],
      "metadata": {
        "id": "IYhqtnZULI7P"
      },
      "execution_count": 2,
      "outputs": []
    },
    {
      "cell_type": "code",
      "source": [
        "import numpy as np\n",
        "import pandas as pd\n",
        "from scipy.special import digamma\n"
      ],
      "metadata": {
        "id": "VEFxz-qvLQ9Z"
      },
      "execution_count": 3,
      "outputs": []
    },
    {
      "cell_type": "markdown",
      "source": [
        "Functions"
      ],
      "metadata": {
        "id": "xqVQ---uLmlP"
      }
    },
    {
      "cell_type": "code",
      "source": [
        "def getPairwiseDistArray(data, coords = [], discrete_dist = 1):\n",
        "    '''\n",
        "    Input: \n",
        "    data: pandas data frame\n",
        "    coords: list of indices for variables to be used\n",
        "    discrete_dist: distance to be used for non-numeric differences\n",
        "    Output:\n",
        "    p x n x n array with pairwise distances for each variable\n",
        "    '''\n",
        "    n, p = data.shape\n",
        "    if coords == []:\n",
        "        coords = range(p)\n",
        "    col_names = list(data)\n",
        "    distArray = np.empty([p,n,n])\n",
        "    distArray[:] = np.nan\n",
        "    for coord in coords:\n",
        "        thisdtype=data[col_names[coord]].dtype\n",
        "        if pd.api.types.is_numeric_dtype(thisdtype):\n",
        "            distArray[coord,:,:] = abs(data[col_names[coord]].to_numpy() -\n",
        "                                       data[col_names[coord]].to_numpy()[:,None])\n",
        "        else:\n",
        "            distArray[coord,:,:] = (1 - (data[col_names[coord]].to_numpy() ==\n",
        "                                    data[col_names[coord]].to_numpy()[:,None])) * discrete_dist\n",
        "    return distArray\n",
        "\n",
        "def getPointCoordDists(distArray, ind_i, coords = list()):\n",
        "    '''\n",
        "    Input: \n",
        "    ind_i: current observation row index\n",
        "    distArray: output from getPariwiseDistArray\n",
        "    coords: list of variable (column) indices\n",
        "    output: n x p matrix of all distancs for row ind_i\n",
        "    '''\n",
        "    if not coords:\n",
        "        coords = range(distArray.shape[0])\n",
        "    obsDists = np.transpose(distArray[coords, :, ind_i])\n",
        "    return obsDists\n",
        "\n",
        "def countNeighbors(coord_dists, rho, coords = list()):\n",
        "    '''\n",
        "    input: list of coordinate distances (output of coordDistList), \n",
        "    coordinates we want (coords), distance (rho)\n",
        "    output: scalar integer of number of points within ell infinity radius\n",
        "    '''\n",
        "    \n",
        "    if not coords:\n",
        "        coords = range(coord_dists.shape[1])\n",
        "    dists = np.max(coord_dists[:,coords], axis = 1)\n",
        "    count = np.count_nonzero(dists <= rho) - 1\n",
        "    return count\n",
        "\n",
        "def getKnnDist(distArray, k):\n",
        "    '''\n",
        "    input:\n",
        "    distArray: numpy 2D array of pairwise, coordinate wise distances,\n",
        "    output from getPairwiseDistArray\n",
        "    k: nearest neighbor value\n",
        "    \n",
        "    output: (k, distance to knn)\n",
        "    '''\n",
        "    dists = np.max(distArray, axis = 1)\n",
        "    ordered_dists = np.sort(dists)\n",
        "    # using k, not k-1, here because this includes dist to self\n",
        "    k_tilde = np.count_nonzero(dists <= ordered_dists[k]) - 1\n",
        "    return k_tilde, ordered_dists[k]\n",
        "\n",
        "def cmiPoint(point_i, x, y, z, k, distArray):\n",
        "    '''\n",
        "    input:\n",
        "    point_i: current observation row index\n",
        "    x, y, z: list of indices\n",
        "    k: positive integer scalar for k in knn\n",
        "    distArray: output of getPairwiseDistArray\n",
        "    output:\n",
        "    cmi point estimate\n",
        "    '''\n",
        "    n = distArray.shape[1]\n",
        "    coord_dists = getPointCoordDists(distArray, point_i, x + y + z)\n",
        "    k_tilde, rho = getKnnDist(coord_dists, k)\n",
        "    x_coords = list(range(len(x)))\n",
        "    y_coords = list(range(len(x), len(x+y)))\n",
        "    z_coords = list(range(len(x+y), len(x+y+z)))\n",
        "    nxz = countNeighbors(coord_dists, rho, x_coords + z_coords)\n",
        "    nyz = countNeighbors(coord_dists, rho, y_coords + z_coords)\n",
        "    nz = countNeighbors(coord_dists, rho, z_coords)\n",
        "    xi = digamma(k_tilde) - digamma(nxz) - digamma(nyz) + digamma(nz)\n",
        "    return xi\n",
        "\n",
        "def miPoint(point_i, x, y, k, distArray):\n",
        "    '''\n",
        "    input:\n",
        "    point_i: current observation row index\n",
        "    x, y: list of indices\n",
        "    k: positive integer scalar for k in knn\n",
        "    distArray: output of getPairwiseDistArray\n",
        "    output:\n",
        "    mi point estimate\n",
        "    '''\n",
        "    n = distArray.shape[1]\n",
        "    coord_dists = getPointCoordDists(distArray, point_i, x + y)\n",
        "    k_tilde, rho = getKnnDist(coord_dists, k)\n",
        "    x_coords = list(range(len(x)))\n",
        "    y_coords = list(range(len(x), len(x+y)))\n",
        "    nx = countNeighbors(coord_dists, rho, x_coords)\n",
        "    ny = countNeighbors(coord_dists, rho, y_coords)\n",
        "    xi = digamma(k_tilde) + digamma(n) - digamma(nx) - digamma(ny)\n",
        "    return xi\n",
        "    \n",
        "def cmi(x, y, z, k, data, discrete_dist = 1, minzero = 1):\n",
        "    '''\n",
        "    computes conditional mutual information, I(x,y|z)\n",
        "    input:\n",
        "    x: list of indices for x\n",
        "    y: list of indices for y\n",
        "    z: list of indices for z\n",
        "    k: hyper parameter for kNN\n",
        "    data: pandas dataframe\n",
        "    output:\n",
        "    scalar value of I(x,y|z)\n",
        "    '''\n",
        "    # compute CMI for I(x,y|z) using k-NN\n",
        "    n, p = data.shape\n",
        "\n",
        "    # convert variable to index if not already\n",
        "    vrbls = [x,y,z]\n",
        "    for i, lst in enumerate(vrbls):\n",
        "        if all(type(elem) == str for elem in lst) and len(lst) > 0:\n",
        "            vrbls[i] = list(data.columns.get_indexer(lst))\n",
        "    x,y,z = vrbls\n",
        "            \n",
        "    distArray = getPairwiseDistArray(data, x + y + z, discrete_dist)\n",
        "    if len(z) > 0:\n",
        "        ptEsts = map(lambda obs: cmiPoint(obs, x, y, z, k, distArray), range(n))\n",
        "    else:\n",
        "        ptEsts = map(lambda obs: miPoint(obs, x, y, k, distArray), range(n))\n",
        "    if minzero == 1:\n",
        "        return(max(sum(ptEsts)/n,0))\n",
        "    elif minzero == 0:\n",
        "        return(sum(ptEsts)/n)"
      ],
      "metadata": {
        "id": "09Tbms2WLle3"
      },
      "execution_count": 4,
      "outputs": []
    },
    {
      "cell_type": "markdown",
      "source": [
        "Loading data "
      ],
      "metadata": {
        "id": "gIVLeYkyOZD1"
      }
    },
    {
      "cell_type": "code",
      "source": [
        "from google.colab import drive\n",
        "drive.mount('/content/drive')"
      ],
      "metadata": {
        "colab": {
          "base_uri": "https://localhost:8080/"
        },
        "id": "Y5SZQJ1gMpPK",
        "outputId": "ae19d1f3-8bb5-4dea-85ee-309184a41c83"
      },
      "execution_count": 5,
      "outputs": [
        {
          "output_type": "stream",
          "name": "stdout",
          "text": [
            "Drive already mounted at /content/drive; to attempt to forcibly remount, call drive.mount(\"/content/drive\", force_remount=True).\n"
          ]
        }
      ]
    },
    {
      "cell_type": "code",
      "source": [
        "dt1 = pd.read_csv(r'drive/MyDrive/mutualinformationdataset/Lorenz.csv').iloc[:10000]\n",
        "dt2 = pd.read_csv(r'drive/MyDrive/mutualinformationdataset/Rossler.csv').iloc[:10000]\n",
        "dt3 = pd.read_csv(r'drive/MyDrive/mutualinformationdataset/ECG.csv')\n",
        "dt4 = pd.read_csv(r'drive/MyDrive/mutualinformationdataset/random.csv')\n",
        "dt5 = pd.read_csv(r'drive/MyDrive/mutualinformationdataset/sinx.csv')"
      ],
      "metadata": {
        "id": "xhz9fOLyOc_G"
      },
      "execution_count": 18,
      "outputs": []
    },
    {
      "cell_type": "markdown",
      "source": [
        "Lorenz"
      ],
      "metadata": {
        "id": "LJTRchN3RmwM"
      }
    },
    {
      "cell_type": "code",
      "source": [
        "dt1"
      ],
      "metadata": {
        "colab": {
          "base_uri": "https://localhost:8080/",
          "height": 424
        },
        "id": "cBX-WPumQjZA",
        "outputId": "79fbe36c-941f-4c7c-cd7f-04e9f1bc53d3"
      },
      "execution_count": 22,
      "outputs": [
        {
          "output_type": "execute_result",
          "data": {
            "text/plain": [
              "      Unnamed: 0         X         Y          Z      T\n",
              "0              0  0.500000  1.000000   0.050000   0.00\n",
              "1              1  0.550000  1.129750   0.053666   0.01\n",
              "2              2  0.607975  1.272157   0.058449   0.02\n",
              "3              3  0.674393  1.429313   0.064624   0.03\n",
              "4              4  0.749885  1.603415   0.072540   0.04\n",
              "...          ...       ...       ...        ...    ...\n",
              "9995        9995 -5.744281 -4.953745  25.005358  99.95\n",
              "9996        9996 -5.665227 -5.076228  24.623022  99.96\n",
              "9997        9997 -5.606327 -5.216780  24.253906  99.97\n",
              "9998        9998 -5.567372 -5.374630  23.899524  99.98\n",
              "9999        9999 -5.548098 -5.549173  23.561349  99.99\n",
              "\n",
              "[10000 rows x 5 columns]"
            ],
            "text/html": [
              "\n",
              "  <div id=\"df-27123892-b02e-4254-8628-823ecf00eca5\">\n",
              "    <div class=\"colab-df-container\">\n",
              "      <div>\n",
              "<style scoped>\n",
              "    .dataframe tbody tr th:only-of-type {\n",
              "        vertical-align: middle;\n",
              "    }\n",
              "\n",
              "    .dataframe tbody tr th {\n",
              "        vertical-align: top;\n",
              "    }\n",
              "\n",
              "    .dataframe thead th {\n",
              "        text-align: right;\n",
              "    }\n",
              "</style>\n",
              "<table border=\"1\" class=\"dataframe\">\n",
              "  <thead>\n",
              "    <tr style=\"text-align: right;\">\n",
              "      <th></th>\n",
              "      <th>Unnamed: 0</th>\n",
              "      <th>X</th>\n",
              "      <th>Y</th>\n",
              "      <th>Z</th>\n",
              "      <th>T</th>\n",
              "    </tr>\n",
              "  </thead>\n",
              "  <tbody>\n",
              "    <tr>\n",
              "      <th>0</th>\n",
              "      <td>0</td>\n",
              "      <td>0.500000</td>\n",
              "      <td>1.000000</td>\n",
              "      <td>0.050000</td>\n",
              "      <td>0.00</td>\n",
              "    </tr>\n",
              "    <tr>\n",
              "      <th>1</th>\n",
              "      <td>1</td>\n",
              "      <td>0.550000</td>\n",
              "      <td>1.129750</td>\n",
              "      <td>0.053666</td>\n",
              "      <td>0.01</td>\n",
              "    </tr>\n",
              "    <tr>\n",
              "      <th>2</th>\n",
              "      <td>2</td>\n",
              "      <td>0.607975</td>\n",
              "      <td>1.272157</td>\n",
              "      <td>0.058449</td>\n",
              "      <td>0.02</td>\n",
              "    </tr>\n",
              "    <tr>\n",
              "      <th>3</th>\n",
              "      <td>3</td>\n",
              "      <td>0.674393</td>\n",
              "      <td>1.429313</td>\n",
              "      <td>0.064624</td>\n",
              "      <td>0.03</td>\n",
              "    </tr>\n",
              "    <tr>\n",
              "      <th>4</th>\n",
              "      <td>4</td>\n",
              "      <td>0.749885</td>\n",
              "      <td>1.603415</td>\n",
              "      <td>0.072540</td>\n",
              "      <td>0.04</td>\n",
              "    </tr>\n",
              "    <tr>\n",
              "      <th>...</th>\n",
              "      <td>...</td>\n",
              "      <td>...</td>\n",
              "      <td>...</td>\n",
              "      <td>...</td>\n",
              "      <td>...</td>\n",
              "    </tr>\n",
              "    <tr>\n",
              "      <th>9995</th>\n",
              "      <td>9995</td>\n",
              "      <td>-5.744281</td>\n",
              "      <td>-4.953745</td>\n",
              "      <td>25.005358</td>\n",
              "      <td>99.95</td>\n",
              "    </tr>\n",
              "    <tr>\n",
              "      <th>9996</th>\n",
              "      <td>9996</td>\n",
              "      <td>-5.665227</td>\n",
              "      <td>-5.076228</td>\n",
              "      <td>24.623022</td>\n",
              "      <td>99.96</td>\n",
              "    </tr>\n",
              "    <tr>\n",
              "      <th>9997</th>\n",
              "      <td>9997</td>\n",
              "      <td>-5.606327</td>\n",
              "      <td>-5.216780</td>\n",
              "      <td>24.253906</td>\n",
              "      <td>99.97</td>\n",
              "    </tr>\n",
              "    <tr>\n",
              "      <th>9998</th>\n",
              "      <td>9998</td>\n",
              "      <td>-5.567372</td>\n",
              "      <td>-5.374630</td>\n",
              "      <td>23.899524</td>\n",
              "      <td>99.98</td>\n",
              "    </tr>\n",
              "    <tr>\n",
              "      <th>9999</th>\n",
              "      <td>9999</td>\n",
              "      <td>-5.548098</td>\n",
              "      <td>-5.549173</td>\n",
              "      <td>23.561349</td>\n",
              "      <td>99.99</td>\n",
              "    </tr>\n",
              "  </tbody>\n",
              "</table>\n",
              "<p>10000 rows × 5 columns</p>\n",
              "</div>\n",
              "      <button class=\"colab-df-convert\" onclick=\"convertToInteractive('df-27123892-b02e-4254-8628-823ecf00eca5')\"\n",
              "              title=\"Convert this dataframe to an interactive table.\"\n",
              "              style=\"display:none;\">\n",
              "        \n",
              "  <svg xmlns=\"http://www.w3.org/2000/svg\" height=\"24px\"viewBox=\"0 0 24 24\"\n",
              "       width=\"24px\">\n",
              "    <path d=\"M0 0h24v24H0V0z\" fill=\"none\"/>\n",
              "    <path d=\"M18.56 5.44l.94 2.06.94-2.06 2.06-.94-2.06-.94-.94-2.06-.94 2.06-2.06.94zm-11 1L8.5 8.5l.94-2.06 2.06-.94-2.06-.94L8.5 2.5l-.94 2.06-2.06.94zm10 10l.94 2.06.94-2.06 2.06-.94-2.06-.94-.94-2.06-.94 2.06-2.06.94z\"/><path d=\"M17.41 7.96l-1.37-1.37c-.4-.4-.92-.59-1.43-.59-.52 0-1.04.2-1.43.59L10.3 9.45l-7.72 7.72c-.78.78-.78 2.05 0 2.83L4 21.41c.39.39.9.59 1.41.59.51 0 1.02-.2 1.41-.59l7.78-7.78 2.81-2.81c.8-.78.8-2.07 0-2.86zM5.41 20L4 18.59l7.72-7.72 1.47 1.35L5.41 20z\"/>\n",
              "  </svg>\n",
              "      </button>\n",
              "      \n",
              "  <style>\n",
              "    .colab-df-container {\n",
              "      display:flex;\n",
              "      flex-wrap:wrap;\n",
              "      gap: 12px;\n",
              "    }\n",
              "\n",
              "    .colab-df-convert {\n",
              "      background-color: #E8F0FE;\n",
              "      border: none;\n",
              "      border-radius: 50%;\n",
              "      cursor: pointer;\n",
              "      display: none;\n",
              "      fill: #1967D2;\n",
              "      height: 32px;\n",
              "      padding: 0 0 0 0;\n",
              "      width: 32px;\n",
              "    }\n",
              "\n",
              "    .colab-df-convert:hover {\n",
              "      background-color: #E2EBFA;\n",
              "      box-shadow: 0px 1px 2px rgba(60, 64, 67, 0.3), 0px 1px 3px 1px rgba(60, 64, 67, 0.15);\n",
              "      fill: #174EA6;\n",
              "    }\n",
              "\n",
              "    [theme=dark] .colab-df-convert {\n",
              "      background-color: #3B4455;\n",
              "      fill: #D2E3FC;\n",
              "    }\n",
              "\n",
              "    [theme=dark] .colab-df-convert:hover {\n",
              "      background-color: #434B5C;\n",
              "      box-shadow: 0px 1px 3px 1px rgba(0, 0, 0, 0.15);\n",
              "      filter: drop-shadow(0px 1px 2px rgba(0, 0, 0, 0.3));\n",
              "      fill: #FFFFFF;\n",
              "    }\n",
              "  </style>\n",
              "\n",
              "      <script>\n",
              "        const buttonEl =\n",
              "          document.querySelector('#df-27123892-b02e-4254-8628-823ecf00eca5 button.colab-df-convert');\n",
              "        buttonEl.style.display =\n",
              "          google.colab.kernel.accessAllowed ? 'block' : 'none';\n",
              "\n",
              "        async function convertToInteractive(key) {\n",
              "          const element = document.querySelector('#df-27123892-b02e-4254-8628-823ecf00eca5');\n",
              "          const dataTable =\n",
              "            await google.colab.kernel.invokeFunction('convertToInteractive',\n",
              "                                                     [key], {});\n",
              "          if (!dataTable) return;\n",
              "\n",
              "          const docLinkHtml = 'Like what you see? Visit the ' +\n",
              "            '<a target=\"_blank\" href=https://colab.research.google.com/notebooks/data_table.ipynb>data table notebook</a>'\n",
              "            + ' to learn more about interactive tables.';\n",
              "          element.innerHTML = '';\n",
              "          dataTable['output_type'] = 'display_data';\n",
              "          await google.colab.output.renderOutput(dataTable, element);\n",
              "          const docLink = document.createElement('div');\n",
              "          docLink.innerHTML = docLinkHtml;\n",
              "          element.appendChild(docLink);\n",
              "        }\n",
              "      </script>\n",
              "    </div>\n",
              "  </div>\n",
              "  "
            ]
          },
          "metadata": {},
          "execution_count": 22
        }
      ]
    },
    {
      "cell_type": "code",
      "source": [
        "imlorenz = cmi(['X'],['Y'],['Z'], 4, dt1) - mutual_info_regression(dt1['X'].to_frame(), dt1['Y'], discrete_features=[False])"
      ],
      "metadata": {
        "id": "K4t23Fq0PFdj"
      },
      "execution_count": 15,
      "outputs": []
    },
    {
      "cell_type": "code",
      "source": [
        "imlorenz"
      ],
      "metadata": {
        "colab": {
          "base_uri": "https://localhost:8080/"
        },
        "id": "qiNLsaTzQmzq",
        "outputId": "8ff2c051-408d-47b9-c30a-1de7dd639de2"
      },
      "execution_count": 16,
      "outputs": [
        {
          "output_type": "execute_result",
          "data": {
            "text/plain": [
              "array([1.99762159])"
            ]
          },
          "metadata": {},
          "execution_count": 16
        }
      ]
    },
    {
      "cell_type": "markdown",
      "source": [
        "Rossler"
      ],
      "metadata": {
        "id": "iuoF75MoRq67"
      }
    },
    {
      "cell_type": "code",
      "source": [
        "imrossler = cmi(['X'],['Y'],['Z'], 4, dt2) - mutual_info_regression(dt2['X'].to_frame(), dt2['Y'], discrete_features=[False])"
      ],
      "metadata": {
        "id": "ikAXzw4RRO48"
      },
      "execution_count": 19,
      "outputs": []
    },
    {
      "cell_type": "code",
      "source": [
        "imrossler\n"
      ],
      "metadata": {
        "colab": {
          "base_uri": "https://localhost:8080/"
        },
        "id": "4nZ-ZvLJRXD8",
        "outputId": "7ef85763-1e19-42c0-80dc-4c634af87e6d"
      },
      "execution_count": 20,
      "outputs": [
        {
          "output_type": "execute_result",
          "data": {
            "text/plain": [
              "array([0.45073509])"
            ]
          },
          "metadata": {},
          "execution_count": 20
        }
      ]
    },
    {
      "cell_type": "markdown",
      "source": [
        "ECG"
      ],
      "metadata": {
        "id": "eNYJJneZRvQw"
      }
    },
    {
      "cell_type": "code",
      "source": [
        "ecgresults = {}\n",
        "for i in range(1,13):\n",
        "  for j in range(i+1,13):\n",
        "    for k in range(j+1,13):\n",
        "      ecgresults[str(i) + \"Vs\" + str(j) + \"Vs\" + str(k)] =  cmi([str(i)],[str(j)],[str(k)], 4, dt3) -mutual_info_regression(dt3[str(i)].to_frame(), dt3[str(j)], discrete_features=[False])[0]\n"
      ],
      "metadata": {
        "id": "sipizSy-RY8y"
      },
      "execution_count": 23,
      "outputs": []
    },
    {
      "cell_type": "code",
      "source": [
        "ecgresults"
      ],
      "metadata": {
        "colab": {
          "base_uri": "https://localhost:8080/"
        },
        "id": "sDIAUd--W5Y0",
        "outputId": "7d4fc8d3-5ed6-4511-f446-8b4d3fb62dec"
      },
      "execution_count": 24,
      "outputs": [
        {
          "output_type": "execute_result",
          "data": {
            "text/plain": [
              "{'1Vs2Vs3': 0.7152484661222913,\n",
              " '1Vs2Vs4': 0.13507854697326538,\n",
              " '1Vs2Vs5': 0.08692394537487447,\n",
              " '1Vs2Vs6': -0.8044119701678978,\n",
              " '1Vs2Vs7': -0.5619354982768365,\n",
              " '1Vs2Vs8': -0.8150895967034815,\n",
              " '1Vs2Vs9': -0.8283152859602442,\n",
              " '1Vs2Vs10': -0.8726633089071721,\n",
              " '1Vs2Vs11': -0.9911976011207138,\n",
              " '1Vs2Vs12': -1.0551672448811469,\n",
              " '1Vs3Vs4': 0.09919714787089862,\n",
              " '1Vs3Vs5': 0.5279006218138171,\n",
              " '1Vs3Vs6': -0.014997182155791267,\n",
              " '1Vs3Vs7': -0.5024985018397914,\n",
              " '1Vs3Vs8': -0.6125335035835053,\n",
              " '1Vs3Vs9': -0.6352796583137179,\n",
              " '1Vs3Vs10': -0.6355819650944927,\n",
              " '1Vs3Vs11': -0.6189088967007077,\n",
              " '1Vs3Vs12': -0.6256126816320321,\n",
              " '1Vs4Vs5': 0.1447113685660648,\n",
              " '1Vs4Vs6': -0.29594793390695084,\n",
              " '1Vs4Vs7': -0.7221914758622264,\n",
              " '1Vs4Vs8': -1.0216203864767694,\n",
              " '1Vs4Vs9': -0.9749941078879165,\n",
              " '1Vs4Vs10': -1.001245632434657,\n",
              " '1Vs4Vs11': -1.0067386879174345,\n",
              " '1Vs4Vs12': -0.9680390821460367,\n",
              " '1Vs5Vs6': -0.33628526608670484,\n",
              " '1Vs5Vs7': -0.4380510780611251,\n",
              " '1Vs5Vs8': -0.554372038654623,\n",
              " '1Vs5Vs9': -0.6144344654092195,\n",
              " '1Vs5Vs10': -0.7245865132783056,\n",
              " '1Vs5Vs11': -0.7982776631586688,\n",
              " '1Vs5Vs12': -0.8316159163730452,\n",
              " '1Vs6Vs7': -0.7755514811966624,\n",
              " '1Vs6Vs8': -1.0988065104363605,\n",
              " '1Vs6Vs9': -1.0916533494214558,\n",
              " '1Vs6Vs10': -1.114130955091787,\n",
              " '1Vs6Vs11': -1.222085775684254,\n",
              " '1Vs6Vs12': -1.2203934497339963,\n",
              " '1Vs7Vs8': -0.5294190682279402,\n",
              " '1Vs7Vs9': -0.5121508355437726,\n",
              " '1Vs7Vs10': -0.5262431176137499,\n",
              " '1Vs7Vs11': -0.606927160349439,\n",
              " '1Vs7Vs12': -0.6243812591880618,\n",
              " '1Vs8Vs9': -0.8312830213584665,\n",
              " '1Vs8Vs10': -0.74067320870986,\n",
              " '1Vs8Vs11': -0.703392052407913,\n",
              " '1Vs8Vs12': -0.7795496843810328,\n",
              " '1Vs9Vs10': -0.7389040371309137,\n",
              " '1Vs9Vs11': -0.7166751530243155,\n",
              " '1Vs9Vs12': -0.7505914537098148,\n",
              " '1Vs10Vs11': -0.7719332929904726,\n",
              " '1Vs10Vs12': -0.7449019930989523,\n",
              " '1Vs11Vs12': -0.8840300160606357,\n",
              " '2Vs3Vs4': 0.5867265234142116,\n",
              " '2Vs3Vs5': 0.09297035675737986,\n",
              " '2Vs3Vs6': 0.042564874559309906,\n",
              " '2Vs3Vs7': -0.4596439071526973,\n",
              " '2Vs3Vs8': -0.5728386304684647,\n",
              " '2Vs3Vs9': -0.6108604688092957,\n",
              " '2Vs3Vs10': -0.6082838201142228,\n",
              " '2Vs3Vs11': -0.5985677605660613,\n",
              " '2Vs3Vs12': -0.6475189228758246,\n",
              " '2Vs4Vs5': 0.27433429274270105,\n",
              " '2Vs4Vs6': -0.2755264744296183,\n",
              " '2Vs4Vs7': -0.458583040225612,\n",
              " '2Vs4Vs8': -0.6253936958321373,\n",
              " '2Vs4Vs9': -0.6196951923751277,\n",
              " '2Vs4Vs10': -0.6765071869717213,\n",
              " '2Vs4Vs11': -0.7315403805069858,\n",
              " '2Vs4Vs12': -0.7794962760826476,\n",
              " '2Vs5Vs6': -0.2460161158166687,\n",
              " '2Vs5Vs7': -0.6224314896085954,\n",
              " '2Vs5Vs8': -0.833285921045451,\n",
              " '2Vs5Vs9': -0.8923292831744458,\n",
              " '2Vs5Vs10': -0.9340204560451814,\n",
              " '2Vs5Vs11': -1.005412057444055,\n",
              " '2Vs5Vs12': -1.0114659221276379,\n",
              " '2Vs6Vs7': -0.7074363204817369,\n",
              " '2Vs6Vs8': -1.034398625466542,\n",
              " '2Vs6Vs9': -1.0458141086924608,\n",
              " '2Vs6Vs10': -1.0681545271158088,\n",
              " '2Vs6Vs11': -1.1573237920069879,\n",
              " '2Vs6Vs12': -1.2161397642776393,\n",
              " '2Vs7Vs8': -0.5330494919548938,\n",
              " '2Vs7Vs9': -0.5078284343181312,\n",
              " '2Vs7Vs10': -0.4609635346804867,\n",
              " '2Vs7Vs11': -0.6035788452393387,\n",
              " '2Vs7Vs12': -0.64989094409847,\n",
              " '2Vs8Vs9': -0.7969068386704118,\n",
              " '2Vs8Vs10': -0.655061565072626,\n",
              " '2Vs8Vs11': -0.6737960165298651,\n",
              " '2Vs8Vs12': -0.7974659574331898,\n",
              " '2Vs9Vs10': -0.6764826390562723,\n",
              " '2Vs9Vs11': -0.7065030342678644,\n",
              " '2Vs9Vs12': -0.7908332908035248,\n",
              " '2Vs10Vs11': -0.7277196571212345,\n",
              " '2Vs10Vs12': -0.7754053732592505,\n",
              " '2Vs11Vs12': -0.9166559048208051,\n",
              " '3Vs4Vs5': 0.4450405806717239,\n",
              " '3Vs4Vs6': 0.013409154589794081,\n",
              " '3Vs4Vs7': -0.5817021515539941,\n",
              " '3Vs4Vs8': -0.7354238373507701,\n",
              " '3Vs4Vs9': -0.7501552110004974,\n",
              " '3Vs4Vs10': -0.7288586776497992,\n",
              " '3Vs4Vs11': -0.6130822943178229,\n",
              " '3Vs4Vs12': -0.5503623706469875,\n",
              " '3Vs5Vs6': -0.013439083979857713,\n",
              " '3Vs5Vs7': -0.5382386956566589,\n",
              " '3Vs5Vs8': -0.6302879431996607,\n",
              " '3Vs5Vs9': -0.718748435288297,\n",
              " '3Vs5Vs10': -0.7194364387868631,\n",
              " '3Vs5Vs11': -0.6783919169582431,\n",
              " '3Vs5Vs12': -0.6105677518016009,\n",
              " '3Vs6Vs7': -0.518745751929539,\n",
              " '3Vs6Vs8': -0.6422006870512498,\n",
              " '3Vs6Vs9': -0.6772120695689441,\n",
              " '3Vs6Vs10': -0.6769695850028383,\n",
              " '3Vs6Vs11': -0.6949604532879894,\n",
              " '3Vs6Vs12': -0.7011455708497706,\n",
              " '3Vs7Vs8': -0.5840901747716298,\n",
              " '3Vs7Vs9': -0.5939746257093957,\n",
              " '3Vs7Vs10': -0.523510682863955,\n",
              " '3Vs7Vs11': -0.43240257983272934,\n",
              " '3Vs7Vs12': -0.44998289299847094,\n",
              " '3Vs8Vs9': -0.6755160598764075,\n",
              " '3Vs8Vs10': -0.5920581820271061,\n",
              " '3Vs8Vs11': -0.5218490087163756,\n",
              " '3Vs8Vs12': -0.5516718416965954,\n",
              " '3Vs9Vs10': -0.6328326966517432,\n",
              " '3Vs9Vs11': -0.5366985482638906,\n",
              " '3Vs9Vs12': -0.5450813977419424,\n",
              " '3Vs10Vs11': -0.5123844460649539,\n",
              " '3Vs10Vs12': -0.493730569708009,\n",
              " '3Vs11Vs12': -0.5183789007542408,\n",
              " '4Vs5Vs6': 0.004825013413041868,\n",
              " '4Vs5Vs7': -0.3816774634819111,\n",
              " '4Vs5Vs8': -0.46885372056643504,\n",
              " '4Vs5Vs9': -0.5177936757571586,\n",
              " '4Vs5Vs10': -0.6084214349583987,\n",
              " '4Vs5Vs11': -0.6094021944038737,\n",
              " '4Vs5Vs12': -0.5985747683416274,\n",
              " '4Vs6Vs7': -0.5867691407090289,\n",
              " '4Vs6Vs8': -0.8156243020733641,\n",
              " '4Vs6Vs9': -0.8276001610262321,\n",
              " '4Vs6Vs10': -0.8667806382729366,\n",
              " '4Vs6Vs11': -0.9045029894404923,\n",
              " '4Vs6Vs12': -0.9099904731996572,\n",
              " '4Vs7Vs8': -0.5123576671038017,\n",
              " '4Vs7Vs9': -0.5071509233350527,\n",
              " '4Vs7Vs10': -0.5248426430946755,\n",
              " '4Vs7Vs11': -0.5152787550310451,\n",
              " '4Vs7Vs12': -0.5079621290475874,\n",
              " '4Vs8Vs9': -0.8226853511828223,\n",
              " '4Vs8Vs10': -0.6837140770522714,\n",
              " '4Vs8Vs11': -0.6117848593533952,\n",
              " '4Vs8Vs12': -0.6524675876841024,\n",
              " '4Vs9Vs10': -0.6877297202387311,\n",
              " '4Vs9Vs11': -0.6074271267406544,\n",
              " '4Vs9Vs12': -0.5865371919763536,\n",
              " '4Vs10Vs11': -0.6162990253045937,\n",
              " '4Vs10Vs12': -0.5981781282749175,\n",
              " '4Vs11Vs12': -0.667020748621967,\n",
              " '5Vs6Vs7': -0.5275783537312948,\n",
              " '5Vs6Vs8': -0.6995163517591804,\n",
              " '5Vs6Vs9': -0.7646496867123534,\n",
              " '5Vs6Vs10': -0.8287265003519267,\n",
              " '5Vs6Vs11': -0.9437988308379075,\n",
              " '5Vs6Vs12': -0.9572111023012406,\n",
              " '5Vs7Vs8': -0.43548675290953875,\n",
              " '5Vs7Vs9': -0.47144643139175874,\n",
              " '5Vs7Vs10': -0.45299120681277333,\n",
              " '5Vs7Vs11': -0.5084448164794915,\n",
              " '5Vs7Vs12': -0.5431121580745861,\n",
              " '5Vs8Vs9': -0.6508057162998124,\n",
              " '5Vs8Vs10': -0.5451843790502966,\n",
              " '5Vs8Vs11': -0.5352502332501237,\n",
              " '5Vs8Vs12': -0.5988192251066746,\n",
              " '5Vs9Vs10': -0.5856829241800969,\n",
              " '5Vs9Vs11': -0.5789926402087593,\n",
              " '5Vs9Vs12': -0.6317190337824271,\n",
              " '5Vs10Vs11': -0.6336298746168509,\n",
              " '5Vs10Vs12': -0.6692509965234069,\n",
              " '5Vs11Vs12': -0.7658764100563558,\n",
              " '6Vs7Vs8': -0.5245687150406528,\n",
              " '6Vs7Vs9': -0.5200945180588925,\n",
              " '6Vs7Vs10': -0.480982620105074,\n",
              " '6Vs7Vs11': -0.6420731696181018,\n",
              " '6Vs7Vs12': -0.6671526009809517,\n",
              " '6Vs8Vs9': -0.8039575137589394,\n",
              " '6Vs8Vs10': -0.6791670005012813,\n",
              " '6Vs8Vs11': -0.7273205332651538,\n",
              " '6Vs8Vs12': -0.8101620329882065,\n",
              " '6Vs9Vs10': -0.7671491767828084,\n",
              " '6Vs9Vs11': -0.7898810661903772,\n",
              " '6Vs9Vs12': -0.8389328686147881,\n",
              " '6Vs10Vs11': -0.783092391776876,\n",
              " '6Vs10Vs12': -0.7950807206498529,\n",
              " '6Vs11Vs12': -0.9408634073405946,\n",
              " '7Vs8Vs9': -0.7797678710174791,\n",
              " '7Vs8Vs10': -0.48627268116813294,\n",
              " '7Vs8Vs11': -0.3834174224654239,\n",
              " '7Vs8Vs12': -0.4401326058635995,\n",
              " '7Vs9Vs10': -0.5183075059687068,\n",
              " '7Vs9Vs11': -0.409667235226439,\n",
              " '7Vs9Vs12': -0.45296188488587596,\n",
              " '7Vs10Vs11': -0.43635119509075493,\n",
              " '7Vs10Vs12': -0.4172943057774996,\n",
              " '7Vs11Vs12': -0.5233901609807408,\n",
              " '8Vs9Vs10': -0.789130619179923,\n",
              " '8Vs9Vs11': -0.5348229705273084,\n",
              " '8Vs9Vs12': -0.5730473267792358,\n",
              " '8Vs10Vs11': -0.4603581003411522,\n",
              " '8Vs10Vs12': -0.5026488494661666,\n",
              " '8Vs11Vs12': -0.5306435518662509,\n",
              " '9Vs10Vs11': -0.689798059097409,\n",
              " '9Vs10Vs12': -0.498232129635666,\n",
              " '9Vs11Vs12': -0.5153657589317242,\n",
              " '10Vs11Vs12': -0.6511135469539533}"
            ]
          },
          "metadata": {},
          "execution_count": 24
        }
      ]
    }
  ]
}